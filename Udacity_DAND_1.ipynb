{
  "nbformat": 4,
  "nbformat_minor": 0,
  "metadata": {
    "colab": {
      "name": "Udacity DAND-1.ipynb",
      "version": "0.3.2",
      "provenance": [],
      "collapsed_sections": [],
      "include_colab_link": true
    },
    "kernelspec": {
      "name": "python3",
      "display_name": "Python 3"
    },
    "accelerator": "GPU"
  },
  "cells": [
    {
      "cell_type": "markdown",
      "metadata": {
        "id": "view-in-github",
        "colab_type": "text"
      },
      "source": [
        "<a href=\"https://colab.research.google.com/github/jicksy/python-reference/blob/master/Udacity_DAND_1.ipynb\" target=\"_parent\"><img src=\"https://colab.research.google.com/assets/colab-badge.svg\" alt=\"Open In Colab\"/></a>"
      ]
    },
    {
      "metadata": {
        "id": "hJsIHrltgLGN",
        "colab_type": "text"
      },
      "cell_type": "markdown",
      "source": [
        "**This notebook is part of my learning from Data Analyst Nano Degree by Udacity. Please refer [this link](https://in.udacity.com/course/data-analyst-nanodegree--nd002) for more information. **\n",
        "\n",
        "1. Numbers and Strings\n",
        "2. Functions, Installation and Conditionals\n",
        "3. Data Structures and Loops\n",
        "4. Files and Modules\n",
        "5. Wikipedia Web Crawl Case Study\n",
        "6. Exceptions and Objects\n"
      ]
    },
    {
      "metadata": {
        "id": "ynSL137Hg8GK",
        "colab_type": "text"
      },
      "cell_type": "markdown",
      "source": [
        "**Arithmetic Operators**\n",
        "\n",
        "The symbols for addition and subtraction in Python are the usual ones, `+` and `-`, multiplication is asterisk `*` (watch out, it’s not `x`) and division is forward slash `/`. Brackets for mathematics are the curved parentheses `(` and `)`. You’ll also see parentheses around the content of the call to `print` that we used to show the answer to our calculation."
      ]
    },
    {
      "metadata": {
        "id": "rDl5nVqdgu2M",
        "colab_type": "code",
        "outputId": "b9331076-a967-46d5-96a9-3263f537979c",
        "colab": {
          "base_uri": "https://localhost:8080/",
          "height": 72
        }
      },
      "cell_type": "code",
      "source": [
        "# Addition\n",
        "print('Addition:', 3+1)\n",
        "\n",
        "print(1 + 2 + 3 * 3)\n",
        "print((1 + 2 + 3) * 3)\n"
      ],
      "execution_count": 0,
      "outputs": [
        {
          "output_type": "stream",
          "text": [
            "Addition: 4\n",
            "12\n",
            "18\n"
          ],
          "name": "stdout"
        }
      ]
    },
    {
      "metadata": {
        "id": "IUzJTusth0Fa",
        "colab_type": "text"
      },
      "cell_type": "markdown",
      "source": [
        "This is proof that parentheses matter!\n",
        "\n",
        "We can go beyond the basics, too. You can raise one number to the power of another with two asterisks `**`.\n",
        "\n",
        "Note: There is another operator that is sometimes mistaken for the exponentiation operator, the caret: `^`. This is not for exponentiation as some programmers expect. Instead it performs a more obscure operation called [bitwise xor](https://en.wikipedia.org/wiki/Bitwise_operation#XOR). If you're accustomed to using the caret for exponents you might accidentally write incorrect code that produces confusing results!\n",
        "\n",
        "Another useful operation is given by the `%` - it’s the modulo operation. It gives the remainder after you’ve divided the first number by the second."
      ]
    },
    {
      "metadata": {
        "id": "adxsGQDYh350",
        "colab_type": "code",
        "outputId": "ce1768aa-2b3c-4fdf-d2c2-d291b4c18c0b",
        "colab": {
          "base_uri": "https://localhost:8080/",
          "height": 35
        }
      },
      "cell_type": "code",
      "source": [
        "print('Raised to power:', 3**2)"
      ],
      "execution_count": 0,
      "outputs": [
        {
          "output_type": "stream",
          "text": [
            "Raised to power: 9\n"
          ],
          "name": "stdout"
        }
      ]
    },
    {
      "metadata": {
        "id": "HGsw8shJh5lX",
        "colab_type": "code",
        "outputId": "bb63c340-2009-4ee6-cd42-1544c7ca015b",
        "colab": {
          "base_uri": "https://localhost:8080/",
          "height": 35
        }
      },
      "cell_type": "code",
      "source": [
        "print('Modulo Operation:', 9 % 2)"
      ],
      "execution_count": 0,
      "outputs": [
        {
          "output_type": "stream",
          "text": [
            "Modulo Operation: 1\n"
          ],
          "name": "stdout"
        }
      ]
    },
    {
      "metadata": {
        "id": "bOwGesyEib_d",
        "colab_type": "text"
      },
      "cell_type": "markdown",
      "source": [
        "You might also find use for integer division, denoted by `//`. It divides one integer by another, but rather than giving the exact answer it rounds the answer down to an integer. (Note: it rounds down even if the answer is negative.)"
      ]
    },
    {
      "metadata": {
        "id": "mDvNPX9IiYIc",
        "colab_type": "code",
        "outputId": "872719f2-3f5d-4551-eefa-aed895641bc3",
        "colab": {
          "base_uri": "https://localhost:8080/",
          "height": 72
        }
      },
      "cell_type": "code",
      "source": [
        "print(15 // 4)\n",
        "print(16 // 4)\n",
        "print(-5//4) # It rounds down even if the answer is negative"
      ],
      "execution_count": 0,
      "outputs": [
        {
          "output_type": "stream",
          "text": [
            "3\n",
            "4\n",
            "-2\n"
          ],
          "name": "stdout"
        }
      ]
    },
    {
      "metadata": {
        "id": "WBUYRfEpi-d_",
        "colab_type": "text"
      },
      "cell_type": "markdown",
      "source": [
        "**Quiz: Average Electricity Bill**\n",
        "\n",
        "It's time to try a calculation in Python!\n",
        "\n",
        "My electricity bills for the last three months have been `$23, $32 and $64`. What is the average monthly electricity bill over the three month period? Write an expression to calculate the average, and use `print()` to view the result and to get it graded."
      ]
    },
    {
      "metadata": {
        "id": "J9h69rhFjRYg",
        "colab_type": "code",
        "outputId": "4ad3ad63-c4e1-40f1-d363-e6cf86efcff2",
        "colab": {
          "base_uri": "https://localhost:8080/",
          "height": 35
        }
      },
      "cell_type": "code",
      "source": [
        "# Write an expression that calculates the average of 23, 32 and 64.\n",
        "# Place the expression in this print statement.\n",
        "\n",
        "print('Average:', (23 + 32 + 64) / 3)"
      ],
      "execution_count": 0,
      "outputs": [
        {
          "output_type": "stream",
          "text": [
            "Average: 39.666666666666664\n"
          ],
          "name": "stdout"
        }
      ]
    },
    {
      "metadata": {
        "id": "xn43h-GAj90x",
        "colab_type": "text"
      },
      "cell_type": "markdown",
      "source": [
        "**Arithmetic And Whitespace**\n",
        "\n",
        "One thing you might have noticed is that in a single line of Python, whitespace doesn’t really affect how your code works. For example,"
      ]
    },
    {
      "metadata": {
        "id": "inwxZDsejYGt",
        "colab_type": "code",
        "outputId": "2c583843-94fc-45f8-8310-25b279458003",
        "colab": {
          "base_uri": "https://localhost:8080/",
          "height": 54
        }
      },
      "cell_type": "code",
      "source": [
        "print(4+5)\n",
        "# will give exactly the same output as\n",
        "\n",
        "print (                 4+  5)"
      ],
      "execution_count": 0,
      "outputs": [
        {
          "output_type": "stream",
          "text": [
            "9\n",
            "9\n"
          ],
          "name": "stdout"
        }
      ]
    },
    {
      "metadata": {
        "id": "sGpGoF_ykI7W",
        "colab_type": "text"
      },
      "cell_type": "markdown",
      "source": [
        "However, that doesn’t mean that these things are equally good. Here are some useful guidelines:\n",
        "\n",
        "* When you call a function like print, put the opening parenthesis straight after the name of the function like in` print(8)`.\n",
        "* Don’t put extra spaces inside the parentheses either, it should be `print(3*7)`.\n",
        "* If you are mixing operators with different priorities (like multiplication and subtraction), then you might like to add a space around the lower priority (in this case addition and subtraction) operator in order to make the code easier to read. For example, `1 + 2*3`.\n",
        "* Don't write extremely long lines of code; they're hard to understand. People commonly limit themselves to lines that are 79 or 99 characters long. If you feel that you need to write longer lines, consider rewriting and simplifying your code.\n",
        "These conventions come from the Python Developer's Guide, which has a Style Guide called[ PEP 8](https://www.python.org/dev/peps/pep-0008/). Don't worry if you don't understand all of the content of PEP 8 right now.\n",
        "\n",
        "Why is this important? Although how you format the code doesn’t affect how it runs, it affects how it reads. Following standard guidelines on code style help make a lot of code easier to read. So it’s a good idea to follow the guidelines, even with one-line expressions, it’ll help you write readable code in the long run. Each time you learn something new it will be useful to refer back to PEP 8 to get your Python style right."
      ]
    },
    {
      "metadata": {
        "id": "DllQelZrksLJ",
        "colab_type": "text"
      },
      "cell_type": "markdown",
      "source": [
        "**Quiz: Calculate And Format**\n",
        "\n",
        "In this quiz you're going to do some calculations for a tiler. Two parts of a floor need tiling. One part is **9 tiles wide by 7 tiles long**, the other is **5 tiles wide by 7 tiles long**. Tiles come in packages of 6.\n",
        "\n",
        "1. How many tiles are needed?\n",
        "2. You buy 17 packages of tiles containing 6 tiles each. How many tiles will be left over?\n",
        "\n",
        "Remember to following the formatting guidelines above as you write your code."
      ]
    },
    {
      "metadata": {
        "id": "LJAbpqXvkBU5",
        "colab_type": "code",
        "outputId": "d73d2025-cffc-4291-9e6a-bf4c12b3d3be",
        "colab": {
          "base_uri": "https://localhost:8080/",
          "height": 54
        }
      },
      "cell_type": "code",
      "source": [
        "# Fill this in with an expression that calculates how many tiles are needed.\n",
        "print(9*7 + 5*7)\n",
        "\n",
        "# Fill this in with an expression that calculates how many tiles will be left over.\n",
        "print(17*6 - (9*7 + 5*7))"
      ],
      "execution_count": 0,
      "outputs": [
        {
          "output_type": "stream",
          "text": [
            "98\n",
            "4\n"
          ],
          "name": "stdout"
        }
      ]
    },
    {
      "metadata": {
        "id": "FOGIw69klpmQ",
        "colab_type": "text"
      },
      "cell_type": "markdown",
      "source": [
        "**Integers and Floats**\n",
        "\n",
        "So far all of the numerical examples we’ve seen have been whole numbers: integers. But other numbers do exist in Python, and we need to be able to calculate with them and construct them."
      ]
    },
    {
      "metadata": {
        "id": "ai21b4hZlBm-",
        "colab_type": "code",
        "outputId": "d81938be-8a6e-4dca-9d75-6ce1053ac7f4",
        "colab": {
          "base_uri": "https://localhost:8080/",
          "height": 35
        }
      },
      "cell_type": "code",
      "source": [
        "print(3/4)"
      ],
      "execution_count": 0,
      "outputs": [
        {
          "output_type": "stream",
          "text": [
            "0.75\n"
          ],
          "name": "stdout"
        }
      ]
    },
    {
      "metadata": {
        "id": "cS6q3HV_l1Aq",
        "colab_type": "text"
      },
      "cell_type": "markdown",
      "source": [
        "Here dividing one integer by another gives us a number that isn't an integer, 0.75. In Python (and computing in general) we represent such a number as a float, which is short for floating-point number.\n",
        "\n",
        "Even if one integer divides another exactly, the result will be a float."
      ]
    },
    {
      "metadata": {
        "id": "q1LuZ8Wpluyc",
        "colab_type": "code",
        "outputId": "feef62b2-485a-419d-8d13-36aefb268ffa",
        "colab": {
          "base_uri": "https://localhost:8080/",
          "height": 35
        }
      },
      "cell_type": "code",
      "source": [
        "print(16/4)"
      ],
      "execution_count": 0,
      "outputs": [
        {
          "output_type": "stream",
          "text": [
            "4.0\n"
          ],
          "name": "stdout"
        }
      ]
    },
    {
      "metadata": {
        "id": "nkiq2G2PmFVB",
        "colab_type": "text"
      },
      "cell_type": "markdown",
      "source": [
        "An operation involving an int and a float produces a float."
      ]
    },
    {
      "metadata": {
        "id": "J4gSwJUimI-K",
        "colab_type": "code",
        "outputId": "67f7ed93-3d0e-40b5-b5d2-5e6121063acc",
        "colab": {
          "base_uri": "https://localhost:8080/",
          "height": 35
        }
      },
      "cell_type": "code",
      "source": [
        "print(3 + 2.5)"
      ],
      "execution_count": 0,
      "outputs": [
        {
          "output_type": "stream",
          "text": [
            "5.5\n"
          ],
          "name": "stdout"
        }
      ]
    },
    {
      "metadata": {
        "id": "YnZd0W_7mMVV",
        "colab_type": "text"
      },
      "cell_type": "markdown",
      "source": [
        "To make an int, just give a whole number without a decimal point. Here is an int:"
      ]
    },
    {
      "metadata": {
        "id": "15PPv0IRmKHX",
        "colab_type": "code",
        "outputId": "135d7128-d737-42b9-d578-9d0a854dde26",
        "colab": {
          "base_uri": "https://localhost:8080/",
          "height": 35
        }
      },
      "cell_type": "code",
      "source": [
        "387"
      ],
      "execution_count": 0,
      "outputs": [
        {
          "output_type": "execute_result",
          "data": {
            "text/plain": [
              "387"
            ]
          },
          "metadata": {
            "tags": []
          },
          "execution_count": 21
        }
      ]
    },
    {
      "metadata": {
        "id": "LIwrZuERmP-a",
        "colab_type": "text"
      },
      "cell_type": "markdown",
      "source": [
        "To make a float, include a decimal point! If the number itself is actually a whole number, that’s OK: you don’t even have to put anything AFTER the decimal point. Here are a couple of floats:"
      ]
    },
    {
      "metadata": {
        "id": "ZBPnmGO5mOBx",
        "colab_type": "code",
        "outputId": "580ed688-03b8-46be-c8b0-bcf6666089f8",
        "colab": {
          "base_uri": "https://localhost:8080/",
          "height": 35
        }
      },
      "cell_type": "code",
      "source": [
        "213.13\n",
        "341."
      ],
      "execution_count": 0,
      "outputs": [
        {
          "output_type": "execute_result",
          "data": {
            "text/plain": [
              "341.0"
            ]
          },
          "metadata": {
            "tags": []
          },
          "execution_count": 22
        }
      ]
    },
    {
      "metadata": {
        "id": "aEHBDrXpmUyN",
        "colab_type": "text"
      },
      "cell_type": "markdown",
      "source": [
        "Sometimes you might need to manually convert one numeric type to another, and you can do that by constructing new objects of those types with `int()` and `float()`."
      ]
    },
    {
      "metadata": {
        "id": "ixN1tE6EmRpd",
        "colab_type": "code",
        "outputId": "36fba262-e2f5-4d05-f808-a992eab69c6f",
        "colab": {
          "base_uri": "https://localhost:8080/",
          "height": 72
        }
      },
      "cell_type": "code",
      "source": [
        "print(int(49.7))\n",
        "print(int(16/4))\n",
        "print(float(3520+3239))"
      ],
      "execution_count": 0,
      "outputs": [
        {
          "output_type": "stream",
          "text": [
            "49\n",
            "4\n",
            "6759.0\n"
          ],
          "name": "stdout"
        }
      ]
    },
    {
      "metadata": {
        "id": "a8rNCS0rmmaS",
        "colab_type": "text"
      },
      "cell_type": "markdown",
      "source": [
        "When we convert a float to an int, the part of the number after the decimal point is cut off.\n",
        "\n",
        "So we’ve seen Python’s two main numeric **types** - integer (int) and floating-point number (float). What are they good for?\n",
        "\n",
        "* int - there are many times when you might need to count items, or need to rely on the result of a computation being an integer. The int type is great for this.\n",
        "* float - if what you’re working on isn’t necessarily a whole number, a float is the type you’re looking for!\n",
        "Floating-point numbers are **approximations** of the numbers they are supposed to represent. This is necessary because floats can represent an enormous range of numbers, so in order to fit numbers in computer memory, Python must use approximations. This tradeoff can sometimes have surprising results:\n",
        "\n"
      ]
    },
    {
      "metadata": {
        "id": "H7CIcZmQmY0_",
        "colab_type": "code",
        "outputId": "bf843757-244a-49fa-e25b-69708b44c7de",
        "colab": {
          "base_uri": "https://localhost:8080/",
          "height": 54
        }
      },
      "cell_type": "code",
      "source": [
        "print(0.1)\n",
        "print(0.1 + 0.1 + 0.1)"
      ],
      "execution_count": 0,
      "outputs": [
        {
          "output_type": "stream",
          "text": [
            "0.1\n",
            "0.30000000000000004\n"
          ],
          "name": "stdout"
        }
      ]
    },
    {
      "metadata": {
        "id": "DsFaonAAm0Zo",
        "colab_type": "text"
      },
      "cell_type": "markdown",
      "source": [
        "Because the float (i.e. the approximation) for 0.1 is actually slightly more than 0.1, when we add several of them together we can see the difference between the mathematically correct answer and the one that Python creates. In most contexts these small differences are irrelevant, but it's important to know that they're there!\n",
        "\n",
        "The Python documentation explains more about this: https://docs.python.org/3/tutorial/floatingpoint.html"
      ]
    },
    {
      "metadata": {
        "id": "HJRYWk4onWBE",
        "colab_type": "text"
      },
      "cell_type": "markdown",
      "source": [
        "**Variables I**\n",
        "\n",
        "Doing arithmetic was OK, but using variables turns Python into more than just a calculator.\n",
        "\n",
        "In this portion of the lesson we are going to learn about variables. We will look at the population of Manila (the capital of the Philippines), and we are going to do some calculations with it. We are going to accomplish that using variables. Using variables (as opposed to doing calculations on raw numbers) has many advantages, including the ability to account for changes more efficiently, as we will see later on. Let's get started!\n",
        "\n",
        "Creating a new variable in Python is simple; here’s one which stores the population of Manila."
      ]
    },
    {
      "metadata": {
        "id": "ZJi8VA6pmuiy",
        "colab_type": "code",
        "colab": {}
      },
      "cell_type": "code",
      "source": [
        "manila_pop = 1780148"
      ],
      "execution_count": 0,
      "outputs": []
    },
    {
      "metadata": {
        "id": "h7s1IJopngbl",
        "colab_type": "text"
      },
      "cell_type": "markdown",
      "source": [
        "The variable name in this example is `manila_pop`. The equals sign, `=,` is the assignment operator. The value of the variable `manila_pop` is `1780148`."
      ]
    },
    {
      "metadata": {
        "id": "j7_NCzrHnodZ",
        "colab_type": "text"
      },
      "cell_type": "markdown",
      "source": [
        "**Assigning And Printing Variables**\n",
        "\n",
        "The order of this assignment expression is VERY important! It always goes in that same order, variable name = value. The variable_name on the left is now a name for the value given by the expression on the right. The assignment operator = assigns the value on the right to the variable name on the left. (Note how this is different from writing expressions in mathematics, where x=y is equivalent to y=x)\n",
        "\n",
        "Notice that there’s no keyword for variable assignment in Python as there is in some languages, and there’s no need to specify the type of the value - just go ahead and use an equals sign to assign a variable.\n",
        "\n",
        "If you want to access that value, you can just use the name of the variable. You could, for example, print it out to the screen:"
      ]
    },
    {
      "metadata": {
        "id": "NjDvq_T4nc8B",
        "colab_type": "code",
        "outputId": "772657f9-f6a1-4e52-8d25-082b3b54fff8",
        "colab": {
          "base_uri": "https://localhost:8080/",
          "height": 35
        }
      },
      "cell_type": "code",
      "source": [
        "print(manila_pop)"
      ],
      "execution_count": 0,
      "outputs": [
        {
          "output_type": "stream",
          "text": [
            "1780148\n"
          ],
          "name": "stdout"
        }
      ]
    },
    {
      "metadata": {
        "id": "62NgjSwmoans",
        "colab_type": "text"
      },
      "cell_type": "markdown",
      "source": [
        "When you’re naming variables there are a few things you have to watch out for:\n",
        "\n",
        "* There are some reserved words that you cannot use for names - things like False and class which have important purposes in Python. You can find a list here: https://docs.python.org/3/reference/lexical_analysis.html#keywords . Trying to assign a value to one of these will give you a SyntaxError.\n",
        "* Use only ordinary letters, numbers and underscores in your variable names. Start variable names with a letter or an underscore.\n",
        "* It would be a bad idea to use any of the built-in identifiers for names, though this won’t immediately cause an error. For example, assigning a value to int will not cause errors when you make the assignment, but will be really problematic you want to convert something to an int later on.\n",
        "* It’s best to use variable names that are English words and describe what they are for as far as possible. Use underscores to separate words if you want a multiple-word variable. For example, `coconut_counter = 2`.\n",
        "\n",
        "\n",
        "\n",
        "**Assigning A Variable Again!**\n",
        "\n",
        "We already set `manila_pop` variable as the population of Manila, 1780148. What if the population of Manila changes, can we update the population data? The population is now up to 1781573. We can update Python by assigning a new value to that same variable name, which will change the value.\n"
      ]
    },
    {
      "metadata": {
        "id": "koBCnMmBoHrK",
        "colab_type": "code",
        "outputId": "b1927eb5-2527-4e49-b577-1bc7beb1fe9c",
        "colab": {
          "base_uri": "https://localhost:8080/",
          "height": 35
        }
      },
      "cell_type": "code",
      "source": [
        "manila_pop = 1781573\n",
        "print(manila_pop)"
      ],
      "execution_count": 0,
      "outputs": [
        {
          "output_type": "stream",
          "text": [
            "1781573\n"
          ],
          "name": "stdout"
        }
      ]
    },
    {
      "metadata": {
        "id": "uV1RHU0-o0Rf",
        "colab_type": "text"
      },
      "cell_type": "markdown",
      "source": [
        "The old data has been forgotten, replaced by the new value of `manila_pop`.\n",
        "\n",
        "We can also do this in another way, using Python to update the value. Perhaps we find out that 1675 people moved to the city and 250 moved away. We can do the calculation in Python to find the new value and assign it to the variable in one step."
      ]
    },
    {
      "metadata": {
        "id": "SaqoLMEyoxoK",
        "colab_type": "code",
        "outputId": "d7175977-72d5-47c5-8df9-b0da89cdca2b",
        "colab": {
          "base_uri": "https://localhost:8080/",
          "height": 35
        }
      },
      "cell_type": "code",
      "source": [
        "manila_pop = manila_pop + 1675 - 250\n",
        "print(manila_pop)"
      ],
      "execution_count": 0,
      "outputs": [
        {
          "output_type": "stream",
          "text": [
            "1782998\n"
          ],
          "name": "stdout"
        }
      ]
    },
    {
      "metadata": {
        "id": "jukVtoF1o_Nz",
        "colab_type": "text"
      },
      "cell_type": "markdown",
      "source": [
        "This assignment, `manila_pop = manila_pop + 1675 - 250`, looks totally wrong if we were doing mathematics, because the variable name manila_pop is on both sides of the equals sign! But it works in Python code because equals sign = is for assignment in Python."
      ]
    },
    {
      "metadata": {
        "id": "IVM2dsyApEah",
        "colab_type": "text"
      },
      "cell_type": "markdown",
      "source": [
        "**Reassignment Operators**\n",
        "\n",
        "Because this kind of increment and re-assign operation is very common, Python includes special operators for it:"
      ]
    },
    {
      "metadata": {
        "id": "u9h49l-go3iY",
        "colab_type": "code",
        "colab": {}
      },
      "cell_type": "code",
      "source": [
        "manila_pop += 1675 # increase the value of manila_pop by 1675\n",
        "manila_pop -= 250 # decrease the value of manila_pop by 250\n",
        "manila_pop *= 0.9 # decrease the value of manila_pop by 10%\n",
        "manila_pop /=  2 # approximate the female population of Manila"
      ],
      "execution_count": 0,
      "outputs": []
    },
    {
      "metadata": {
        "id": "hBEOazYapNtH",
        "colab_type": "text"
      },
      "cell_type": "markdown",
      "source": [
        "`manila_pop += 1675 `is an abbreviated way of writing, `manila_pop = manila_pop + 1675`. The other reassignment operators follow the same pattern."
      ]
    },
    {
      "metadata": {
        "id": "Je7yQAHApSz7",
        "colab_type": "text"
      },
      "cell_type": "markdown",
      "source": [
        "**Quiz: Assign and Modify Variables**\n",
        "\n",
        "Now it's your turn to work with variables. The comments in this quiz (the lines that begin with #) have instructions for creating and modifying variables. After each comment write a line of code that implements the instruction.\n",
        "\n",
        "Note that this code uses [scientific notation](https://en.wikipedia.org/wiki/Scientific_notation) to define large numbers. 4.445e8 is equal to 4.445 * 10 ** 8 which is equal to 444500000.0."
      ]
    },
    {
      "metadata": {
        "id": "L8Cqj5-9pIvA",
        "colab_type": "code",
        "colab": {}
      },
      "cell_type": "code",
      "source": [
        "# The current volume of a water reservoir (in cubic metres)\n",
        "reservoir_volume = 4.445e8\n",
        "# The amount of rainfall from a storm (in cubic metres)\n",
        "rainfall = 5e6\n",
        "\n",
        "# decrease the rainfall variable by 10% to account for runoff\n",
        "\n",
        "# add the rainfall variable to the reservoir_volume variable\n",
        "\n",
        "# increase reservoir_volume by 5% to account for stormwater that flows\n",
        "# into the reservoir in the days following the storm\n",
        "\n",
        "# decrease reservoir_volume by 5% to account for evaporation\n",
        "\n",
        "# subtract 2.5e5 cubic metres from reservoir_volume to account for water\n",
        "# that's piped to arid regions.\n",
        "\n",
        "# print the new value of the reservoir_volume variable\n"
      ],
      "execution_count": 0,
      "outputs": []
    }
  ]
}