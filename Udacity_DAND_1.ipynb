{
  "nbformat": 4,
  "nbformat_minor": 0,
  "metadata": {
    "colab": {
      "name": "Udacity DAND-1.ipynb",
      "version": "0.3.2",
      "provenance": [],
      "collapsed_sections": [],
      "include_colab_link": true
    },
    "kernelspec": {
      "name": "python3",
      "display_name": "Python 3"
    },
    "accelerator": "GPU"
  },
  "cells": [
    {
      "cell_type": "markdown",
      "metadata": {
        "id": "view-in-github",
        "colab_type": "text"
      },
      "source": [
        "<a href=\"https://colab.research.google.com/github/jicksy/python-reference/blob/master/Udacity_DAND_1.ipynb\" target=\"_parent\"><img src=\"https://colab.research.google.com/assets/colab-badge.svg\" alt=\"Open In Colab\"/></a>"
      ]
    },
    {
      "metadata": {
        "id": "hJsIHrltgLGN",
        "colab_type": "text"
      },
      "cell_type": "markdown",
      "source": [
        "**This notebook is part of my learning from Data Analyst Nano Degree by Udacity. Please refer [this link](https://in.udacity.com/course/data-analyst-nanodegree--nd002) for more information. **\n",
        "\n",
        "1. Numbers and Strings\n",
        "2. Functions, Installation and Conditionals\n",
        "3. Data Structures and Loops\n",
        "4. Files and Modules\n",
        "5. Wikipedia Web Crawl Case Study\n",
        "6. Exceptions and Objects\n"
      ]
    },
    {
      "metadata": {
        "id": "ynSL137Hg8GK",
        "colab_type": "text"
      },
      "cell_type": "markdown",
      "source": [
        "**Arithmetic Operators**\n",
        "\n",
        "The symbols for addition and subtraction in Python are the usual ones, `+` and `-`, multiplication is asterisk `*` (watch out, it’s not `x`) and division is forward slash `/`. Brackets for mathematics are the curved parentheses `(` and `)`. You’ll also see parentheses around the content of the call to `print` that we used to show the answer to our calculation."
      ]
    },
    {
      "metadata": {
        "id": "rDl5nVqdgu2M",
        "colab_type": "code",
        "outputId": "b9331076-a967-46d5-96a9-3263f537979c",
        "colab": {
          "base_uri": "https://localhost:8080/",
          "height": 72
        }
      },
      "cell_type": "code",
      "source": [
        "# Addition\n",
        "print('Addition:', 3+1)\n",
        "\n",
        "print(1 + 2 + 3 * 3)\n",
        "print((1 + 2 + 3) * 3)\n"
      ],
      "execution_count": 0,
      "outputs": [
        {
          "output_type": "stream",
          "text": [
            "Addition: 4\n",
            "12\n",
            "18\n"
          ],
          "name": "stdout"
        }
      ]
    },
    {
      "metadata": {
        "id": "IUzJTusth0Fa",
        "colab_type": "text"
      },
      "cell_type": "markdown",
      "source": [
        "This is proof that parentheses matter!\n",
        "\n",
        "We can go beyond the basics, too. You can raise one number to the power of another with two asterisks `**`.\n",
        "\n",
        "Note: There is another operator that is sometimes mistaken for the exponentiation operator, the caret: `^`. This is not for exponentiation as some programmers expect. Instead it performs a more obscure operation called [bitwise xor](https://en.wikipedia.org/wiki/Bitwise_operation#XOR). If you're accustomed to using the caret for exponents you might accidentally write incorrect code that produces confusing results!\n",
        "\n",
        "Another useful operation is given by the `%` - it’s the modulo operation. It gives the remainder after you’ve divided the first number by the second."
      ]
    },
    {
      "metadata": {
        "id": "adxsGQDYh350",
        "colab_type": "code",
        "outputId": "ce1768aa-2b3c-4fdf-d2c2-d291b4c18c0b",
        "colab": {
          "base_uri": "https://localhost:8080/",
          "height": 35
        }
      },
      "cell_type": "code",
      "source": [
        "print('Raised to power:', 3**2)"
      ],
      "execution_count": 0,
      "outputs": [
        {
          "output_type": "stream",
          "text": [
            "Raised to power: 9\n"
          ],
          "name": "stdout"
        }
      ]
    },
    {
      "metadata": {
        "id": "HGsw8shJh5lX",
        "colab_type": "code",
        "outputId": "bb63c340-2009-4ee6-cd42-1544c7ca015b",
        "colab": {
          "base_uri": "https://localhost:8080/",
          "height": 35
        }
      },
      "cell_type": "code",
      "source": [
        "print('Modulo Operation:', 9 % 2)"
      ],
      "execution_count": 0,
      "outputs": [
        {
          "output_type": "stream",
          "text": [
            "Modulo Operation: 1\n"
          ],
          "name": "stdout"
        }
      ]
    },
    {
      "metadata": {
        "id": "bOwGesyEib_d",
        "colab_type": "text"
      },
      "cell_type": "markdown",
      "source": [
        "You might also find use for integer division, denoted by `//`. It divides one integer by another, but rather than giving the exact answer it rounds the answer down to an integer. (Note: it rounds down even if the answer is negative.)"
      ]
    },
    {
      "metadata": {
        "id": "mDvNPX9IiYIc",
        "colab_type": "code",
        "outputId": "872719f2-3f5d-4551-eefa-aed895641bc3",
        "colab": {
          "base_uri": "https://localhost:8080/",
          "height": 72
        }
      },
      "cell_type": "code",
      "source": [
        "print(15 // 4)\n",
        "print(16 // 4)\n",
        "print(-5//4) # It rounds down even if the answer is negative"
      ],
      "execution_count": 0,
      "outputs": [
        {
          "output_type": "stream",
          "text": [
            "3\n",
            "4\n",
            "-2\n"
          ],
          "name": "stdout"
        }
      ]
    },
    {
      "metadata": {
        "id": "WBUYRfEpi-d_",
        "colab_type": "text"
      },
      "cell_type": "markdown",
      "source": [
        "**Quiz: Average Electricity Bill**\n",
        "\n",
        "It's time to try a calculation in Python!\n",
        "\n",
        "My electricity bills for the last three months have been `$23, $32 and $64`. What is the average monthly electricity bill over the three month period? Write an expression to calculate the average, and use `print()` to view the result and to get it graded."
      ]
    },
    {
      "metadata": {
        "id": "J9h69rhFjRYg",
        "colab_type": "code",
        "outputId": "4ad3ad63-c4e1-40f1-d363-e6cf86efcff2",
        "colab": {
          "base_uri": "https://localhost:8080/",
          "height": 35
        }
      },
      "cell_type": "code",
      "source": [
        "# Write an expression that calculates the average of 23, 32 and 64.\n",
        "# Place the expression in this print statement.\n",
        "\n",
        "print('Average:', (23 + 32 + 64) / 3)"
      ],
      "execution_count": 0,
      "outputs": [
        {
          "output_type": "stream",
          "text": [
            "Average: 39.666666666666664\n"
          ],
          "name": "stdout"
        }
      ]
    },
    {
      "metadata": {
        "id": "xn43h-GAj90x",
        "colab_type": "text"
      },
      "cell_type": "markdown",
      "source": [
        "**Arithmetic And Whitespace**\n",
        "\n",
        "One thing you might have noticed is that in a single line of Python, whitespace doesn’t really affect how your code works. For example,"
      ]
    },
    {
      "metadata": {
        "id": "inwxZDsejYGt",
        "colab_type": "code",
        "outputId": "2c583843-94fc-45f8-8310-25b279458003",
        "colab": {
          "base_uri": "https://localhost:8080/",
          "height": 54
        }
      },
      "cell_type": "code",
      "source": [
        "print(4+5)\n",
        "# will give exactly the same output as\n",
        "\n",
        "print (                 4+  5)"
      ],
      "execution_count": 0,
      "outputs": [
        {
          "output_type": "stream",
          "text": [
            "9\n",
            "9\n"
          ],
          "name": "stdout"
        }
      ]
    },
    {
      "metadata": {
        "id": "sGpGoF_ykI7W",
        "colab_type": "text"
      },
      "cell_type": "markdown",
      "source": [
        "However, that doesn’t mean that these things are equally good. Here are some useful guidelines:\n",
        "\n",
        "* When you call a function like print, put the opening parenthesis straight after the name of the function like in` print(8)`.\n",
        "* Don’t put extra spaces inside the parentheses either, it should be `print(3*7)`.\n",
        "* If you are mixing operators with different priorities (like multiplication and subtraction), then you might like to add a space around the lower priority (in this case addition and subtraction) operator in order to make the code easier to read. For example, `1 + 2*3`.\n",
        "* Don't write extremely long lines of code; they're hard to understand. People commonly limit themselves to lines that are 79 or 99 characters long. If you feel that you need to write longer lines, consider rewriting and simplifying your code.\n",
        "These conventions come from the Python Developer's Guide, which has a Style Guide called[ PEP 8](https://www.python.org/dev/peps/pep-0008/). Don't worry if you don't understand all of the content of PEP 8 right now.\n",
        "\n",
        "Why is this important? Although how you format the code doesn’t affect how it runs, it affects how it reads. Following standard guidelines on code style help make a lot of code easier to read. So it’s a good idea to follow the guidelines, even with one-line expressions, it’ll help you write readable code in the long run. Each time you learn something new it will be useful to refer back to PEP 8 to get your Python style right."
      ]
    },
    {
      "metadata": {
        "id": "DllQelZrksLJ",
        "colab_type": "text"
      },
      "cell_type": "markdown",
      "source": [
        "**Quiz: Calculate And Format**\n",
        "\n",
        "In this quiz you're going to do some calculations for a tiler. Two parts of a floor need tiling. One part is **9 tiles wide by 7 tiles long**, the other is **5 tiles wide by 7 tiles long**. Tiles come in packages of 6.\n",
        "\n",
        "1. How many tiles are needed?\n",
        "2. You buy 17 packages of tiles containing 6 tiles each. How many tiles will be left over?\n",
        "\n",
        "Remember to following the formatting guidelines above as you write your code."
      ]
    },
    {
      "metadata": {
        "id": "LJAbpqXvkBU5",
        "colab_type": "code",
        "outputId": "d73d2025-cffc-4291-9e6a-bf4c12b3d3be",
        "colab": {
          "base_uri": "https://localhost:8080/",
          "height": 54
        }
      },
      "cell_type": "code",
      "source": [
        "# Fill this in with an expression that calculates how many tiles are needed.\n",
        "print(9*7 + 5*7)\n",
        "\n",
        "# Fill this in with an expression that calculates how many tiles will be left over.\n",
        "print(17*6 - (9*7 + 5*7))"
      ],
      "execution_count": 0,
      "outputs": [
        {
          "output_type": "stream",
          "text": [
            "98\n",
            "4\n"
          ],
          "name": "stdout"
        }
      ]
    },
    {
      "metadata": {
        "id": "FOGIw69klpmQ",
        "colab_type": "text"
      },
      "cell_type": "markdown",
      "source": [
        "**Integers and Floats**\n",
        "\n",
        "So far all of the numerical examples we’ve seen have been whole numbers: integers. But other numbers do exist in Python, and we need to be able to calculate with them and construct them."
      ]
    },
    {
      "metadata": {
        "id": "ai21b4hZlBm-",
        "colab_type": "code",
        "outputId": "d81938be-8a6e-4dca-9d75-6ce1053ac7f4",
        "colab": {
          "base_uri": "https://localhost:8080/",
          "height": 35
        }
      },
      "cell_type": "code",
      "source": [
        "print(3/4)"
      ],
      "execution_count": 0,
      "outputs": [
        {
          "output_type": "stream",
          "text": [
            "0.75\n"
          ],
          "name": "stdout"
        }
      ]
    },
    {
      "metadata": {
        "id": "cS6q3HV_l1Aq",
        "colab_type": "text"
      },
      "cell_type": "markdown",
      "source": [
        "Here dividing one integer by another gives us a number that isn't an integer, 0.75. In Python (and computing in general) we represent such a number as a float, which is short for floating-point number.\n",
        "\n",
        "Even if one integer divides another exactly, the result will be a float."
      ]
    },
    {
      "metadata": {
        "id": "q1LuZ8Wpluyc",
        "colab_type": "code",
        "outputId": "feef62b2-485a-419d-8d13-36aefb268ffa",
        "colab": {
          "base_uri": "https://localhost:8080/",
          "height": 35
        }
      },
      "cell_type": "code",
      "source": [
        "print(16/4)"
      ],
      "execution_count": 0,
      "outputs": [
        {
          "output_type": "stream",
          "text": [
            "4.0\n"
          ],
          "name": "stdout"
        }
      ]
    },
    {
      "metadata": {
        "id": "nkiq2G2PmFVB",
        "colab_type": "text"
      },
      "cell_type": "markdown",
      "source": [
        "An operation involving an int and a float produces a float."
      ]
    },
    {
      "metadata": {
        "id": "J4gSwJUimI-K",
        "colab_type": "code",
        "outputId": "67f7ed93-3d0e-40b5-b5d2-5e6121063acc",
        "colab": {
          "base_uri": "https://localhost:8080/",
          "height": 35
        }
      },
      "cell_type": "code",
      "source": [
        "print(3 + 2.5)"
      ],
      "execution_count": 0,
      "outputs": [
        {
          "output_type": "stream",
          "text": [
            "5.5\n"
          ],
          "name": "stdout"
        }
      ]
    },
    {
      "metadata": {
        "id": "YnZd0W_7mMVV",
        "colab_type": "text"
      },
      "cell_type": "markdown",
      "source": [
        "To make an int, just give a whole number without a decimal point. Here is an int:"
      ]
    },
    {
      "metadata": {
        "id": "15PPv0IRmKHX",
        "colab_type": "code",
        "outputId": "135d7128-d737-42b9-d578-9d0a854dde26",
        "colab": {
          "base_uri": "https://localhost:8080/",
          "height": 35
        }
      },
      "cell_type": "code",
      "source": [
        "387"
      ],
      "execution_count": 0,
      "outputs": [
        {
          "output_type": "execute_result",
          "data": {
            "text/plain": [
              "387"
            ]
          },
          "metadata": {
            "tags": []
          },
          "execution_count": 21
        }
      ]
    },
    {
      "metadata": {
        "id": "LIwrZuERmP-a",
        "colab_type": "text"
      },
      "cell_type": "markdown",
      "source": [
        "To make a float, include a decimal point! If the number itself is actually a whole number, that’s OK: you don’t even have to put anything AFTER the decimal point. Here are a couple of floats:"
      ]
    },
    {
      "metadata": {
        "id": "ZBPnmGO5mOBx",
        "colab_type": "code",
        "outputId": "580ed688-03b8-46be-c8b0-bcf6666089f8",
        "colab": {
          "base_uri": "https://localhost:8080/",
          "height": 35
        }
      },
      "cell_type": "code",
      "source": [
        "213.13\n",
        "341."
      ],
      "execution_count": 0,
      "outputs": [
        {
          "output_type": "execute_result",
          "data": {
            "text/plain": [
              "341.0"
            ]
          },
          "metadata": {
            "tags": []
          },
          "execution_count": 22
        }
      ]
    },
    {
      "metadata": {
        "id": "aEHBDrXpmUyN",
        "colab_type": "text"
      },
      "cell_type": "markdown",
      "source": [
        "Sometimes you might need to manually convert one numeric type to another, and you can do that by constructing new objects of those types with `int()` and `float()`."
      ]
    },
    {
      "metadata": {
        "id": "ixN1tE6EmRpd",
        "colab_type": "code",
        "outputId": "36fba262-e2f5-4d05-f808-a992eab69c6f",
        "colab": {
          "base_uri": "https://localhost:8080/",
          "height": 72
        }
      },
      "cell_type": "code",
      "source": [
        "print(int(49.7))\n",
        "print(int(16/4))\n",
        "print(float(3520+3239))"
      ],
      "execution_count": 0,
      "outputs": [
        {
          "output_type": "stream",
          "text": [
            "49\n",
            "4\n",
            "6759.0\n"
          ],
          "name": "stdout"
        }
      ]
    },
    {
      "metadata": {
        "id": "a8rNCS0rmmaS",
        "colab_type": "text"
      },
      "cell_type": "markdown",
      "source": [
        "When we convert a float to an int, the part of the number after the decimal point is cut off.\n",
        "\n",
        "So we’ve seen Python’s two main numeric **types** - integer (int) and floating-point number (float). What are they good for?\n",
        "\n",
        "* int - there are many times when you might need to count items, or need to rely on the result of a computation being an integer. The int type is great for this.\n",
        "* float - if what you’re working on isn’t necessarily a whole number, a float is the type you’re looking for!\n",
        "Floating-point numbers are **approximations** of the numbers they are supposed to represent. This is necessary because floats can represent an enormous range of numbers, so in order to fit numbers in computer memory, Python must use approximations. This tradeoff can sometimes have surprising results:\n",
        "\n"
      ]
    },
    {
      "metadata": {
        "id": "H7CIcZmQmY0_",
        "colab_type": "code",
        "outputId": "bf843757-244a-49fa-e25b-69708b44c7de",
        "colab": {
          "base_uri": "https://localhost:8080/",
          "height": 54
        }
      },
      "cell_type": "code",
      "source": [
        "print(0.1)\n",
        "print(0.1 + 0.1 + 0.1)"
      ],
      "execution_count": 0,
      "outputs": [
        {
          "output_type": "stream",
          "text": [
            "0.1\n",
            "0.30000000000000004\n"
          ],
          "name": "stdout"
        }
      ]
    },
    {
      "metadata": {
        "id": "DsFaonAAm0Zo",
        "colab_type": "text"
      },
      "cell_type": "markdown",
      "source": [
        "Because the float (i.e. the approximation) for 0.1 is actually slightly more than 0.1, when we add several of them together we can see the difference between the mathematically correct answer and the one that Python creates. In most contexts these small differences are irrelevant, but it's important to know that they're there!\n",
        "\n",
        "The Python documentation explains more about this: https://docs.python.org/3/tutorial/floatingpoint.html"
      ]
    },
    {
      "metadata": {
        "id": "HJRYWk4onWBE",
        "colab_type": "text"
      },
      "cell_type": "markdown",
      "source": [
        "**Variables I**\n",
        "\n",
        "Doing arithmetic was OK, but using variables turns Python into more than just a calculator.\n",
        "\n",
        "In this portion of the lesson we are going to learn about variables. We will look at the population of Manila (the capital of the Philippines), and we are going to do some calculations with it. We are going to accomplish that using variables. Using variables (as opposed to doing calculations on raw numbers) has many advantages, including the ability to account for changes more efficiently, as we will see later on. Let's get started!\n",
        "\n",
        "Creating a new variable in Python is simple; here’s one which stores the population of Manila."
      ]
    },
    {
      "metadata": {
        "id": "ZJi8VA6pmuiy",
        "colab_type": "code",
        "colab": {}
      },
      "cell_type": "code",
      "source": [
        "manila_pop = 1780148"
      ],
      "execution_count": 0,
      "outputs": []
    },
    {
      "metadata": {
        "id": "h7s1IJopngbl",
        "colab_type": "text"
      },
      "cell_type": "markdown",
      "source": [
        "The variable name in this example is `manila_pop`. The equals sign, `=,` is the assignment operator. The value of the variable `manila_pop` is `1780148`."
      ]
    },
    {
      "metadata": {
        "id": "j7_NCzrHnodZ",
        "colab_type": "text"
      },
      "cell_type": "markdown",
      "source": [
        "**Assigning And Printing Variables**\n",
        "\n",
        "The order of this assignment expression is VERY important! It always goes in that same order, variable name = value. The variable_name on the left is now a name for the value given by the expression on the right. The assignment operator = assigns the value on the right to the variable name on the left. (Note how this is different from writing expressions in mathematics, where x=y is equivalent to y=x)\n",
        "\n",
        "Notice that there’s no keyword for variable assignment in Python as there is in some languages, and there’s no need to specify the type of the value - just go ahead and use an equals sign to assign a variable.\n",
        "\n",
        "If you want to access that value, you can just use the name of the variable. You could, for example, print it out to the screen:"
      ]
    },
    {
      "metadata": {
        "id": "NjDvq_T4nc8B",
        "colab_type": "code",
        "outputId": "772657f9-f6a1-4e52-8d25-082b3b54fff8",
        "colab": {
          "base_uri": "https://localhost:8080/",
          "height": 35
        }
      },
      "cell_type": "code",
      "source": [
        "print(manila_pop)"
      ],
      "execution_count": 0,
      "outputs": [
        {
          "output_type": "stream",
          "text": [
            "1780148\n"
          ],
          "name": "stdout"
        }
      ]
    },
    {
      "metadata": {
        "id": "62NgjSwmoans",
        "colab_type": "text"
      },
      "cell_type": "markdown",
      "source": [
        "When you’re naming variables there are a few things you have to watch out for:\n",
        "\n",
        "* There are some reserved words that you cannot use for names - things like False and class which have important purposes in Python. You can find a list here: https://docs.python.org/3/reference/lexical_analysis.html#keywords . Trying to assign a value to one of these will give you a SyntaxError.\n",
        "* Use only ordinary letters, numbers and underscores in your variable names. Start variable names with a letter or an underscore.\n",
        "* It would be a bad idea to use any of the built-in identifiers for names, though this won’t immediately cause an error. For example, assigning a value to int will not cause errors when you make the assignment, but will be really problematic you want to convert something to an int later on.\n",
        "* It’s best to use variable names that are English words and describe what they are for as far as possible. Use underscores to separate words if you want a multiple-word variable. For example, `coconut_counter = 2`.\n",
        "\n",
        "\n",
        "\n",
        "**Assigning A Variable Again!**\n",
        "\n",
        "We already set `manila_pop` variable as the population of Manila, 1780148. What if the population of Manila changes, can we update the population data? The population is now up to 1781573. We can update Python by assigning a new value to that same variable name, which will change the value.\n"
      ]
    },
    {
      "metadata": {
        "id": "koBCnMmBoHrK",
        "colab_type": "code",
        "outputId": "b1927eb5-2527-4e49-b577-1bc7beb1fe9c",
        "colab": {
          "base_uri": "https://localhost:8080/",
          "height": 35
        }
      },
      "cell_type": "code",
      "source": [
        "manila_pop = 1781573\n",
        "print(manila_pop)"
      ],
      "execution_count": 0,
      "outputs": [
        {
          "output_type": "stream",
          "text": [
            "1781573\n"
          ],
          "name": "stdout"
        }
      ]
    },
    {
      "metadata": {
        "id": "uV1RHU0-o0Rf",
        "colab_type": "text"
      },
      "cell_type": "markdown",
      "source": [
        "The old data has been forgotten, replaced by the new value of `manila_pop`.\n",
        "\n",
        "We can also do this in another way, using Python to update the value. Perhaps we find out that 1675 people moved to the city and 250 moved away. We can do the calculation in Python to find the new value and assign it to the variable in one step."
      ]
    },
    {
      "metadata": {
        "id": "SaqoLMEyoxoK",
        "colab_type": "code",
        "outputId": "d7175977-72d5-47c5-8df9-b0da89cdca2b",
        "colab": {
          "base_uri": "https://localhost:8080/",
          "height": 35
        }
      },
      "cell_type": "code",
      "source": [
        "manila_pop = manila_pop + 1675 - 250\n",
        "print(manila_pop)"
      ],
      "execution_count": 0,
      "outputs": [
        {
          "output_type": "stream",
          "text": [
            "1782998\n"
          ],
          "name": "stdout"
        }
      ]
    },
    {
      "metadata": {
        "id": "jukVtoF1o_Nz",
        "colab_type": "text"
      },
      "cell_type": "markdown",
      "source": [
        "This assignment, `manila_pop = manila_pop + 1675 - 250`, looks totally wrong if we were doing mathematics, because the variable name manila_pop is on both sides of the equals sign! But it works in Python code because equals sign = is for assignment in Python."
      ]
    },
    {
      "metadata": {
        "id": "IVM2dsyApEah",
        "colab_type": "text"
      },
      "cell_type": "markdown",
      "source": [
        "**Reassignment Operators**\n",
        "\n",
        "Because this kind of increment and re-assign operation is very common, Python includes special operators for it:"
      ]
    },
    {
      "metadata": {
        "id": "u9h49l-go3iY",
        "colab_type": "code",
        "colab": {}
      },
      "cell_type": "code",
      "source": [
        "manila_pop += 1675 # increase the value of manila_pop by 1675\n",
        "manila_pop -= 250 # decrease the value of manila_pop by 250\n",
        "manila_pop *= 0.9 # decrease the value of manila_pop by 10%\n",
        "manila_pop /=  2 # approximate the female population of Manila"
      ],
      "execution_count": 0,
      "outputs": []
    },
    {
      "metadata": {
        "id": "hBEOazYapNtH",
        "colab_type": "text"
      },
      "cell_type": "markdown",
      "source": [
        "`manila_pop += 1675 `is an abbreviated way of writing, `manila_pop = manila_pop + 1675`. The other reassignment operators follow the same pattern."
      ]
    },
    {
      "metadata": {
        "id": "Je7yQAHApSz7",
        "colab_type": "text"
      },
      "cell_type": "markdown",
      "source": [
        "**Quiz: Assign and Modify Variables**\n",
        "\n",
        "Now it's your turn to work with variables. The comments in this quiz (the lines that begin with #) have instructions for creating and modifying variables. After each comment write a line of code that implements the instruction.\n",
        "\n",
        "Note that this code uses [scientific notation](https://en.wikipedia.org/wiki/Scientific_notation) to define large numbers. 4.445e8 is equal to 4.445 * 10 ** 8 which is equal to 444500000.0."
      ]
    },
    {
      "metadata": {
        "id": "L8Cqj5-9pIvA",
        "colab_type": "code",
        "colab": {
          "base_uri": "https://localhost:8080/",
          "height": 35
        },
        "outputId": "3cf0acd7-d6fe-490e-ec2c-b20e17370c23"
      },
      "cell_type": "code",
      "source": [
        "# The current volume of a water reservoir (in cubic metres)\n",
        "reservoir_volume = 4.445e8\n",
        "# The amount of rainfall from a storm (in cubic metres)\n",
        "rainfall = 5e6\n",
        "\n",
        "# decrease the rainfall variable by 10% to account for runoff\n",
        "rainfall *= 0.90\n",
        "\n",
        "# add the rainfall variable to the reservoir_volume variable\n",
        "reservoir_volume += rainfall\n",
        "\n",
        "# increase reservoir_volume by 5% to account for stormwater that flows\n",
        "# into the reservoir in the days following the storm\n",
        "reservoir_volume *= 1.05\n",
        "\n",
        "# decrease reservoir_volume by 5% to account for evaporation\n",
        "reservoir_volume *= 0.95\n",
        "\n",
        "# subtract 2.5e5 cubic metres from reservoir_volume to account for water\n",
        "# that's piped to arid regions.\n",
        "reservoir_volume -= 2.5 * 10 ** 5 #2.5e5\n",
        "\n",
        "# print the new value of the reservoir_volume variable\n",
        "print(reservoir_volume)"
      ],
      "execution_count": 30,
      "outputs": [
        {
          "output_type": "stream",
          "text": [
            "447627500.0\n"
          ],
          "name": "stdout"
        }
      ]
    },
    {
      "metadata": {
        "id": "RHF1ulSd0rt6",
        "colab_type": "text"
      },
      "cell_type": "markdown",
      "source": [
        "**Multiple assignment**\n",
        "\n",
        "It is also possible to assign two variables on a single line:"
      ]
    },
    {
      "metadata": {
        "id": "VJIiVmBG0DFk",
        "colab_type": "code",
        "colab": {}
      },
      "cell_type": "code",
      "source": [
        "#These two assignments can be abbreviated\n",
        "savings = 514.86\n",
        "salary = 320.51\n",
        "\n",
        "#Using multiple assignment\n",
        "savings, salary = 514.86, 320.51\n"
      ],
      "execution_count": 0,
      "outputs": []
    },
    {
      "metadata": {
        "id": "NfPH_iSy1A_I",
        "colab_type": "text"
      },
      "cell_type": "markdown",
      "source": [
        "**Booleans and Comparison Operators**\n",
        "\n",
        "We've seen two types of value so far, ints and floats, and we've used arithmetic operators like + and ** to work with these values. Another type is bool which is used to represent the values True and False. \"bool\" is an abbreviation of \"boolean\". [Boolean Algebra](https://en.wikipedia.org/wiki/Boolean_algebra) is a branch of algebra dealing with variables whose values are True or False. Boolean Algebra is named for its inventor [George Boole](https://en.wikipedia.org/wiki/George_Boole).\n",
        "\n",
        "We can assign boolean values like this:"
      ]
    },
    {
      "metadata": {
        "id": "HItPtWy40w8F",
        "colab_type": "code",
        "colab": {}
      },
      "cell_type": "code",
      "source": [
        "the_sun_is_up = True\n",
        "the_sky_is_blue = False"
      ],
      "execution_count": 0,
      "outputs": []
    },
    {
      "metadata": {
        "id": "tiWtE2Dv1Paz",
        "colab_type": "text"
      },
      "cell_type": "markdown",
      "source": [
        "This isn't very useful on its own though. We can use comparison operators like < and > to compare values and produce a boolean result:"
      ]
    },
    {
      "metadata": {
        "id": "kOFpc6Io1Nrn",
        "colab_type": "code",
        "colab": {
          "base_uri": "https://localhost:8080/",
          "height": 54
        },
        "outputId": "39c5fcae-f617-43bb-b9ae-37a89da36590"
      },
      "cell_type": "code",
      "source": [
        "print(1 < 2)\n",
        "print(42 > 43)"
      ],
      "execution_count": 33,
      "outputs": [
        {
          "output_type": "stream",
          "text": [
            "True\n",
            "False\n"
          ],
          "name": "stdout"
        }
      ]
    },
    {
      "metadata": {
        "id": "5eVck8G91TtP",
        "colab_type": "text"
      },
      "cell_type": "markdown",
      "source": [
        "These are the comparison operators:\n",
        "\n",
        "**Operator Name\t|Symbol**\n",
        "\n",
        "* less than\t<\n",
        "* greater than\t>\n",
        "* less than or equal to\t<=\n",
        "* greater than or equal to\t>=\n",
        "* equal to\t==\n",
        "* not equal to\t!="
      ]
    },
    {
      "metadata": {
        "id": "ow-K8_DX1iai",
        "colab_type": "text"
      },
      "cell_type": "markdown",
      "source": [
        "**Quiz: Which is denser, Rio or San Francisco?**\n",
        "\n",
        "Try comparison operators in this quiz! This code calculates the population densities of Rio de Janeiro and San Francisco.\n",
        "\n",
        "Write code to compare these densities. Is San Francisco denser than Rio de Janeiro? Print True if it is and False if not."
      ]
    },
    {
      "metadata": {
        "id": "igzErJ-F1RCR",
        "colab_type": "code",
        "colab": {
          "base_uri": "https://localhost:8080/",
          "height": 35
        },
        "outputId": "4cb718d2-313f-4e2c-c488-4dabcce1a40c"
      },
      "cell_type": "code",
      "source": [
        "sf_population, sf_area = 864816, 231.89\n",
        "rio_population, rio_area = 6453682, 486.5\n",
        "\n",
        "san_francisco_pop_density = sf_population/sf_area\n",
        "rio_de_janeiro_pop_density = rio_population/rio_area\n",
        "\n",
        "# Write code that prints True if San Francisco is denser than Rio, and False otherwise\n",
        "print(san_francisco_pop_density > rio_de_janeiro_pop_density)"
      ],
      "execution_count": 34,
      "outputs": [
        {
          "output_type": "stream",
          "text": [
            "False\n"
          ],
          "name": "stdout"
        }
      ]
    },
    {
      "metadata": {
        "id": "_93hAKdw14Vt",
        "colab_type": "text"
      },
      "cell_type": "markdown",
      "source": [
        "**Strings and Text**\n",
        "\n",
        "Programming involves more than just numbers and arithmetic, and sometimes you’ll need to deal with text. To work with text in Python you will need to use a string - which is just a series of characters. A string is the type that holds text.\n",
        "\n",
        "**Note:** If you have written code before, most likely the concept of strings is not new to you. Unless you are specifically familiar with strings in Python you will likely still benefit from this portion of the lesson, as strings in different programming languages behave differently.\n",
        "\n",
        "You can create a string by using quotes - single or double quotes work equally well."
      ]
    },
    {
      "metadata": {
        "id": "RwGjMYRP1vJ6",
        "colab_type": "code",
        "colab": {
          "base_uri": "https://localhost:8080/",
          "height": 54
        },
        "outputId": "2ce58d7b-bb7e-4e29-ba0c-c01a26306910"
      },
      "cell_type": "code",
      "source": [
        "print(\"hello\") #used double-quotes here\n",
        "print('hello') #used single-quotes on this one"
      ],
      "execution_count": 36,
      "outputs": [
        {
          "output_type": "stream",
          "text": [
            "hello\n",
            "hello\n"
          ],
          "name": "stdout"
        }
      ]
    },
    {
      "metadata": {
        "id": "l-_rqGjr2BAD",
        "colab_type": "text"
      },
      "cell_type": "markdown",
      "source": [
        "In each case, I printed the string \"hello\" and got the output hello.\n",
        "\n",
        "I can set a variable to be a string in the same way as a number. Strings can include any characters: even spaces, punctuation and numbers."
      ]
    },
    {
      "metadata": {
        "id": "3fM8pDz_18Fr",
        "colab_type": "code",
        "colab": {
          "base_uri": "https://localhost:8080/",
          "height": 35
        },
        "outputId": "0457d657-dc7a-4d83-f2a1-2210577d0dfc"
      },
      "cell_type": "code",
      "source": [
        "welcome_message = \"Hello, welcome to Udacity!\"\n",
        "print(welcome_message)"
      ],
      "execution_count": 37,
      "outputs": [
        {
          "output_type": "stream",
          "text": [
            "Hello, welcome to Udacity!\n"
          ],
          "name": "stdout"
        }
      ]
    },
    {
      "metadata": {
        "id": "1aLnOM0p2GAB",
        "colab_type": "text"
      },
      "cell_type": "markdown",
      "source": [
        "Strings are not numbers, but there are some operations that worked for integers and floats that will also work for strings. For example, we can use the + to put strings together - we call this to concatenate strings."
      ]
    },
    {
      "metadata": {
        "id": "0-eYfdb92CjU",
        "colab_type": "code",
        "colab": {
          "base_uri": "https://localhost:8080/",
          "height": 35
        },
        "outputId": "8493bd07-9c50-4bd1-d2ab-9c6ffa5ae975"
      },
      "cell_type": "code",
      "source": [
        "instructor_1 = \"Philip\"\n",
        "instructor_2 = \"Charlie\"\n",
        "print(instructor_1 + instructor_2)"
      ],
      "execution_count": 38,
      "outputs": [
        {
          "output_type": "stream",
          "text": [
            "PhilipCharlie\n"
          ],
          "name": "stdout"
        }
      ]
    },
    {
      "metadata": {
        "id": "RbmmAmkh2Ni_",
        "colab_type": "text"
      },
      "cell_type": "markdown",
      "source": [
        "There are variables with the names of both of the instructors. We used the + to concatenate the two strings together to print. This is fundamentally different from numerical addition! However, notice that the two names have been squished together - we’re missing a space. Python is completely literal when working with strings - we need to explicitly include spaces and punctuation if we want what we write to make sense."
      ]
    },
    {
      "metadata": {
        "id": "MGSOs-HF2IpV",
        "colab_type": "code",
        "colab": {
          "base_uri": "https://localhost:8080/",
          "height": 35
        },
        "outputId": "7192dc49-95e5-4da3-dd72-57dc38c34761"
      },
      "cell_type": "code",
      "source": [
        "instructor_1 = \"Philip\"\n",
        "instructor_2 = \"Charlie\"\n",
        "print(instructor_1 + \" and \" + instructor_2)"
      ],
      "execution_count": 39,
      "outputs": [
        {
          "output_type": "stream",
          "text": [
            "Philip and Charlie\n"
          ],
          "name": "stdout"
        }
      ]
    },
    {
      "metadata": {
        "id": "ohsO5hRA2TU7",
        "colab_type": "text"
      },
      "cell_type": "markdown",
      "source": [
        "This time we got a string that makes sense, putting the two instructors together. Notice that the joining string used has a space before and after the and in order to give proper spacing.\n",
        "\n",
        "So, using + to operate on strings seems to work. Let’s try another mathematical operation:"
      ]
    },
    {
      "metadata": {
        "id": "Xb2DNLZ02PMD",
        "colab_type": "code",
        "colab": {
          "base_uri": "https://localhost:8080/",
          "height": 174
        },
        "outputId": "86f59f1a-f188-4e76-e08f-18b4e2b272d8"
      },
      "cell_type": "code",
      "source": [
        "print(instructor_1 / instructor_2)"
      ],
      "execution_count": 40,
      "outputs": [
        {
          "output_type": "error",
          "ename": "TypeError",
          "evalue": "ignored",
          "traceback": [
            "\u001b[0;31m---------------------------------------------------------------------------\u001b[0m",
            "\u001b[0;31mTypeError\u001b[0m                                 Traceback (most recent call last)",
            "\u001b[0;32m<ipython-input-40-36522175c461>\u001b[0m in \u001b[0;36m<module>\u001b[0;34m()\u001b[0m\n\u001b[0;32m----> 1\u001b[0;31m \u001b[0mprint\u001b[0m\u001b[0;34m(\u001b[0m\u001b[0minstructor_1\u001b[0m \u001b[0;34m/\u001b[0m \u001b[0minstructor_2\u001b[0m\u001b[0;34m)\u001b[0m\u001b[0;34m\u001b[0m\u001b[0;34m\u001b[0m\u001b[0m\n\u001b[0m",
            "\u001b[0;31mTypeError\u001b[0m: unsupported operand type(s) for /: 'str' and 'str'"
          ]
        }
      ]
    },
    {
      "metadata": {
        "id": "g4L7WVuA2YmI",
        "colab_type": "text"
      },
      "cell_type": "markdown",
      "source": [
        "OK - here’s a new kind of error! The operator / doesn’t work for the string (str) type. That’s probably for the best - I would hate to see the mess from dividing one instructor by another!\n",
        "\n"
      ]
    },
    {
      "metadata": {
        "id": "iHO6VOwb2bqk",
        "colab_type": "text"
      },
      "cell_type": "markdown",
      "source": [
        "**Quotes within Quotes**\n",
        "\n",
        "Using quotation marks to define strings presents a problem, how do we define a string that has quotation marks in it? This code does not work because the string itself includes a quotation:"
      ]
    },
    {
      "metadata": {
        "id": "EaIyH_M72U_t",
        "colab_type": "code",
        "colab": {
          "base_uri": "https://localhost:8080/",
          "height": 137
        },
        "outputId": "2ff5ff80-1e8f-4cba-ef3d-1d9bb43f7897"
      },
      "cell_type": "code",
      "source": [
        "pet_halibut = \"Why should I be tarred with the epithet \"loony\" merely because I have a pet halibut?\""
      ],
      "execution_count": 41,
      "outputs": [
        {
          "output_type": "error",
          "ename": "SyntaxError",
          "evalue": "ignored",
          "traceback": [
            "\u001b[0;36m  File \u001b[0;32m\"<ipython-input-41-afefebb1ea32>\"\u001b[0;36m, line \u001b[0;32m1\u001b[0m\n\u001b[0;31m    pet_halibut = \"Why should I be tarred with the epithet \"loony\" merely because I have a pet halibut?\"\u001b[0m\n\u001b[0m                                                                ^\u001b[0m\n\u001b[0;31mSyntaxError\u001b[0m\u001b[0;31m:\u001b[0m invalid syntax\n"
          ]
        }
      ]
    },
    {
      "metadata": {
        "id": "JngqeUB-2gXe",
        "colab_type": "code",
        "colab": {}
      },
      "cell_type": "code",
      "source": [
        "pet_halibut = 'Why should I be tarred with the epithet \"loony\" merely because I have a pet halibut?'"
      ],
      "execution_count": 0,
      "outputs": []
    },
    {
      "metadata": {
        "id": "6VBNryWk2paS",
        "colab_type": "text"
      },
      "cell_type": "markdown",
      "source": [
        "You can use either type of quote to define strings. Sometimes though you'll need to define a string that includes both single and double quotes. What then? In that case you can use a backslash, \\, to escape quotes."
      ]
    },
    {
      "metadata": {
        "id": "eZSWFfme2n_h",
        "colab_type": "code",
        "colab": {
          "base_uri": "https://localhost:8080/",
          "height": 35
        },
        "outputId": "810b6640-a50f-4e4e-f26c-8bba44b03011"
      },
      "cell_type": "code",
      "source": [
        "salesman = '\"I think you\\'re an encyclopaedia salesman\"'\n",
        "print(salesman)"
      ],
      "execution_count": 45,
      "outputs": [
        {
          "output_type": "stream",
          "text": [
            "\"I think you're an encyclopaedia salesman\"\n"
          ],
          "name": "stdout"
        }
      ]
    },
    {
      "metadata": {
        "id": "7q5pDuvW209a",
        "colab_type": "text"
      },
      "cell_type": "markdown",
      "source": [
        "Here the string is delimited by single quotes. The single quote within the string is preceded by a backslash so that Python knows that it should be interpreted as part of the string rather than the quote that ends the string."
      ]
    },
    {
      "metadata": {
        "id": "0ta_CwAa3C5T",
        "colab_type": "text"
      },
      "cell_type": "markdown",
      "source": [
        "**Quiz: Write a Server Log Message**\n",
        "\n",
        "In this programming quiz, you’re going to use what you’ve learned about strings to write a logging message for a server.\n",
        "\n",
        "You’ll be provided with example data for a user, the time of their visit and the site they accessed. You should use the variables provided and the techniques you’ve learned to print a log message like this one (with the username, url, and timestamp replaced with values from the appropriate variables):\n",
        "\n",
        "`Yogesh accessed the site http://petshop.com/pets/reptiles/pythons at 16:20.`\n",
        "\n",
        "Use the Test Run button to see your results as you work on coding this piece by piece."
      ]
    },
    {
      "metadata": {
        "id": "L5Tb5EEU2sES",
        "colab_type": "code",
        "colab": {
          "base_uri": "https://localhost:8080/",
          "height": 35
        },
        "outputId": "1e1a463a-0208-432d-c8d9-c0ca9ce8f784"
      },
      "cell_type": "code",
      "source": [
        "username = \"Kinari\"\n",
        "timestamp = \"04:50\"\n",
        "url = \"http://petshop.com/pets/mammals/cats\"\n",
        "\n",
        "# TODO: print a log message incorporating the strings above.\n",
        "# The message should be use the same format as this one:\n",
        "# \"Yogesh accessed the site http://petshop.com/pets/reptiles/pythons at 16:20.\"\n",
        "\n",
        "\n",
        "message = username + \" accessed the site \" + url + \" at \" + timestamp + \".\"\n",
        "print(message)"
      ],
      "execution_count": 47,
      "outputs": [
        {
          "output_type": "stream",
          "text": [
            "Kinari accessed the site http://petshop.com/pets/mammals/cats at 04:50.\n"
          ],
          "name": "stdout"
        }
      ]
    },
    {
      "metadata": {
        "id": "YoWvcCWx3ol8",
        "colab_type": "text"
      },
      "cell_type": "markdown",
      "source": [
        "We've already been using one of Python's built-in functions, `print`. Another useful built-in function is `len`. The `len` function computes the length in characters of strings passed into it like this:"
      ]
    },
    {
      "metadata": {
        "id": "oQaYvb-n3hij",
        "colab_type": "code",
        "colab": {
          "base_uri": "https://localhost:8080/",
          "height": 35
        },
        "outputId": "e95c38b4-22d1-4d6c-b370-1a5d18792670"
      },
      "cell_type": "code",
      "source": [
        "udacity_length = len(\"Udacity\")\n",
        "print(udacity_length)"
      ],
      "execution_count": 48,
      "outputs": [
        {
          "output_type": "stream",
          "text": [
            "7\n"
          ],
          "name": "stdout"
        }
      ]
    },
    {
      "metadata": {
        "id": "zAhgTi4r30EE",
        "colab_type": "text"
      },
      "cell_type": "markdown",
      "source": [
        "**Quiz: len**\n",
        "\n",
        "Use string concatenation and the `len` function to find the length of Charlie’s full name. (Yes, she is unhappy with her parents’ choices…!) Store that length in the `name_length` variable. Don't forget that there are spaces in between the different parts of a name!"
      ]
    },
    {
      "metadata": {
        "id": "lJMspwHM3trt",
        "colab_type": "code",
        "colab": {
          "base_uri": "https://localhost:8080/",
          "height": 54
        },
        "outputId": "e0508e48-49af-463b-c83a-cba33fb3072d"
      },
      "cell_type": "code",
      "source": [
        "given_name = \"Charlotte\"\n",
        "middle_names = \"Hippopotamus\"\n",
        "family_name = \"Turner\"\n",
        "\n",
        "name_length = len(given_name + middle_names + family_name) + 2 #todo: calculate how long this name is\n",
        "print(name_length)\n",
        "driving_licence_character_limit = 28\n",
        "print(name_length <= driving_licence_character_limit)"
      ],
      "execution_count": 49,
      "outputs": [
        {
          "output_type": "stream",
          "text": [
            "29\n",
            "False\n"
          ],
          "name": "stdout"
        }
      ]
    },
    {
      "metadata": {
        "id": "oYvP3icI4Zyw",
        "colab_type": "code",
        "colab": {
          "base_uri": "https://localhost:8080/",
          "height": 174
        },
        "outputId": "32744d7d-97a8-454c-a041-e5b4c8ace6a1"
      },
      "cell_type": "code",
      "source": [
        "len(234)"
      ],
      "execution_count": 50,
      "outputs": [
        {
          "output_type": "error",
          "ename": "TypeError",
          "evalue": "ignored",
          "traceback": [
            "\u001b[0;31m---------------------------------------------------------------------------\u001b[0m",
            "\u001b[0;31mTypeError\u001b[0m                                 Traceback (most recent call last)",
            "\u001b[0;32m<ipython-input-50-e3b8a058b54e>\u001b[0m in \u001b[0;36m<module>\u001b[0;34m()\u001b[0m\n\u001b[0;32m----> 1\u001b[0;31m \u001b[0mlen\u001b[0m\u001b[0;34m(\u001b[0m\u001b[0;36m234\u001b[0m\u001b[0;34m)\u001b[0m\u001b[0;34m\u001b[0m\u001b[0;34m\u001b[0m\u001b[0m\n\u001b[0m",
            "\u001b[0;31mTypeError\u001b[0m: object of type 'int' has no len()"
          ]
        }
      ]
    },
    {
      "metadata": {
        "id": "iWjIVKZH4kT5",
        "colab_type": "text"
      },
      "cell_type": "markdown",
      "source": [
        "Functions can only accept the inputs they're designed to handle. len isn't designed to accept numeric inputs."
      ]
    },
    {
      "metadata": {
        "id": "jRgWKZE54pD0",
        "colab_type": "text"
      },
      "cell_type": "markdown",
      "source": [
        "**What Type Is This Object?**\n",
        "\n",
        "We’ve talked a bit about types so far, and we’ve discussed four of them in total:\n",
        "\n",
        "* int (integer, for whole numbers)\n",
        "* float (for numbers that aren’t necessarily whole numbers)\n",
        "* bool (boolean, for True and False values)\n",
        "* str (string, for text)\n",
        "\n",
        "In Python, every object you encounter will have a type. An object’s type defines which operators and functions will work on that object and how they work!\n",
        "\n",
        "You can check the type of an object directly using the built-in function `type()`."
      ]
    },
    {
      "metadata": {
        "id": "MmQbxRPy4jCV",
        "colab_type": "code",
        "colab": {
          "base_uri": "https://localhost:8080/",
          "height": 72
        },
        "outputId": "94939056-a937-4901-9d58-7966a4d41c44"
      },
      "cell_type": "code",
      "source": [
        "print(type(633))\n",
        "print(type(\"633\"))\n",
        "print(type(633.0))"
      ],
      "execution_count": 51,
      "outputs": [
        {
          "output_type": "stream",
          "text": [
            "<class 'int'>\n",
            "<class 'str'>\n",
            "<class 'float'>\n"
          ],
          "name": "stdout"
        }
      ]
    },
    {
      "metadata": {
        "id": "Rsd4S1oA5LV0",
        "colab_type": "text"
      },
      "cell_type": "markdown",
      "source": [
        "Making a string from a number:"
      ]
    },
    {
      "metadata": {
        "id": "9a8wLoW44wUS",
        "colab_type": "code",
        "colab": {
          "base_uri": "https://localhost:8080/",
          "height": 54
        },
        "outputId": "cbc6b2f0-463c-458d-9d11-21b01d350ba2"
      },
      "cell_type": "code",
      "source": [
        "house_number = 13\n",
        "street_name = \"The Crescent\"\n",
        "town_name = \"Belmont\"\n",
        "\n",
        "print(type(house_number))\n",
        "address = str(house_number) + \" \" + street_name + \", \" + town_name\n",
        "print(address)"
      ],
      "execution_count": 52,
      "outputs": [
        {
          "output_type": "stream",
          "text": [
            "<class 'int'>\n",
            "13 The Crescent, Belmont\n"
          ],
          "name": "stdout"
        }
      ]
    },
    {
      "metadata": {
        "id": "jSxL2PJ25SXT",
        "colab_type": "text"
      },
      "cell_type": "markdown",
      "source": [
        "You can also build a number from a string:"
      ]
    },
    {
      "metadata": {
        "id": "B-r7wk5a5M4B",
        "colab_type": "code",
        "colab": {
          "base_uri": "https://localhost:8080/",
          "height": 54
        },
        "outputId": "9ecefb99-0795-428b-b4c7-e9c838565af0"
      },
      "cell_type": "code",
      "source": [
        "grams_of_sugar = float(\"35.0\")\n",
        "print(grams_of_sugar)\n",
        "print(type(grams_of_sugar))"
      ],
      "execution_count": 53,
      "outputs": [
        {
          "output_type": "stream",
          "text": [
            "35.0\n",
            "<class 'float'>\n"
          ],
          "name": "stdout"
        }
      ]
    },
    {
      "metadata": {
        "id": "nSIcinjl75we",
        "colab_type": "text"
      },
      "cell_type": "markdown",
      "source": [
        "**String Methods I**\n",
        "\n",
        "So far we've seen two distinct ways to process data with Python. We've used operators like +, <= and = which process the two values on either side of the operator. We've also used functions like print and len. Functions are very similar to operators, in fact the only real difference is in how they look: function inputs are put in parentheses rather than being placed next to an operator, and functions have descriptive names rather than short symbols.\n",
        "\n",
        "There is a third technique for operating on values: methods. Consider the `title` method:"
      ]
    },
    {
      "metadata": {
        "id": "eXalpSWo5T0j",
        "colab_type": "code",
        "colab": {
          "base_uri": "https://localhost:8080/",
          "height": 35
        },
        "outputId": "d8069289-2d1d-4e8a-e34a-f04612b9b003"
      },
      "cell_type": "code",
      "source": [
        "print(\"charlotte hippopotamus turner\".title())"
      ],
      "execution_count": 54,
      "outputs": [
        {
          "output_type": "stream",
          "text": [
            "Charlotte Hippopotamus Turner\n"
          ],
          "name": "stdout"
        }
      ]
    },
    {
      "metadata": {
        "id": "y22xQ6De79re",
        "colab_type": "code",
        "colab": {
          "base_uri": "https://localhost:8080/",
          "height": 35
        },
        "outputId": "fad40bd1-9eb9-4215-9cc8-8d4265825a75"
      },
      "cell_type": "code",
      "source": [
        "full_name = \"charlotte hippopotamus turner\"\n",
        "print(full_name.islower())"
      ],
      "execution_count": 55,
      "outputs": [
        {
          "output_type": "stream",
          "text": [
            "True\n"
          ],
          "name": "stdout"
        }
      ]
    },
    {
      "metadata": {
        "id": "FUtWpiZh8Giu",
        "colab_type": "text"
      },
      "cell_type": "markdown",
      "source": [
        "the `islower` method inspects the string object it has been called with. In this case the string object is \"charlotte hippopotamus turner\". `islower` then returns a bool that indicates whether the string object consists of lowercase letters."
      ]
    },
    {
      "metadata": {
        "id": "Hpjm7GKg8NOu",
        "colab_type": "text"
      },
      "cell_type": "markdown",
      "source": [
        "You can learn more about strings and string methods by looking at the string method documentation at https://docs.python.org/3/library/stdtypes.html#string-methods. You will find that the documentation is one of the most valuable resources for writing code, and not only when it comes to strings or writing code in Python! By reading and searching the documentation you can learn about data types and built in functions as well as how to use them.\n",
        "\n",
        "Give it a try now! Look up a few string methods (using the link above) and try them out in the programming quiz below (using the Test Run button)."
      ]
    },
    {
      "metadata": {
        "id": "elEbGgJZ8QOv",
        "colab_type": "text"
      },
      "cell_type": "markdown",
      "source": [
        "**The .count method**\n",
        "\n",
        "You've probably noticed that when we call the `islower` and `title` methods we use parentheses, but we haven't put anything in them like we did when calling functions. This isn't because methods don't take arguments though, the methods so far simply don't require arguments. Let's try a method that does take arguments, `count`."
      ]
    },
    {
      "metadata": {
        "id": "gqj8lDbf8DBR",
        "colab_type": "code",
        "colab": {
          "base_uri": "https://localhost:8080/",
          "height": 35
        },
        "outputId": "5865b132-5ef3-4138-807c-978a3f57b1d7"
      },
      "cell_type": "code",
      "source": [
        "x = \"One fish, two fish, red fish, blue fish.\".count('fish')\n",
        "print(x)"
      ],
      "execution_count": 56,
      "outputs": [
        {
          "output_type": "stream",
          "text": [
            "4\n"
          ],
          "name": "stdout"
        }
      ]
    },
    {
      "metadata": {
        "id": "mkehJQzE8hkb",
        "colab_type": "text"
      },
      "cell_type": "markdown",
      "source": [
        "Here, the `count` method returns how many times the substring \"fish\" occurs in the string."
      ]
    },
    {
      "metadata": {
        "id": "POJdM9xr8k_I",
        "colab_type": "text"
      },
      "cell_type": "markdown",
      "source": [
        "**Quiz: Vowel Count**\n",
        "\n",
        "Use the count method to determine how many vowels are in the string `prophecy`. Store this count in the `vowel_count` variable. Note: the vowels are a, e, i, o and u. Hint: You may want to call the `count` method multiple times, and increment `vowel_count` multiple times.\n"
      ]
    },
    {
      "metadata": {
        "id": "8Xbf2khL8Y6l",
        "colab_type": "code",
        "colab": {
          "base_uri": "https://localhost:8080/",
          "height": 35
        },
        "outputId": "ae7d9367-dead-4a67-8a31-c299b537574c"
      },
      "cell_type": "code",
      "source": [
        "prophecy = \"And there shall in that time be rumours of things going astray, and there will be a great confusion as to where things really are, and nobody will really know where lieth those little things with the sort of raffia work base, that has an attachment…at this time, a friend shall lose his friends’s hammer and the young shall not know where lieth the things possessed by their fathers that their fathers put there only just the night before around eight o’clock…\"\n",
        "\n",
        "vowel_count = 0\n",
        "\n",
        "# TODO: set the value of vowel_count to be the number of vowels in prophecy\n",
        "\n",
        "\n",
        "# This is my vowel counting code:\n",
        "\n",
        "vowel_count += prophecy.count('a')\n",
        "vowel_count += prophecy.count('A')\n",
        "vowel_count += prophecy.count('e')\n",
        "vowel_count += prophecy.count('E')\n",
        "vowel_count += prophecy.count('i')\n",
        "vowel_count += prophecy.count('I')\n",
        "vowel_count += prophecy.count('o')\n",
        "vowel_count += prophecy.count('O')\n",
        "vowel_count += prophecy.count('u')\n",
        "vowel_count += prophecy.count('U')\n",
        "\n",
        "'''\n",
        "Looking at this first attempt, I think I can make it better. Counting \n",
        "both lower-case 'a' and upper-case 'A', seems unnecessary. I'll convert \n",
        "everything to lower-case, and then I only need to count each vowel once!\n",
        "'''\n",
        "\n",
        "vowel_count = 0\n",
        "lower_prophecy = prophecy.lower()\n",
        "vowel_count += lower_prophecy.count('a')\n",
        "vowel_count += lower_prophecy.count('e')\n",
        "vowel_count += lower_prophecy.count('i')\n",
        "vowel_count += lower_prophecy.count('o')\n",
        "vowel_count += lower_prophecy.count('u')\n",
        "print(vowel_count)\n"
      ],
      "execution_count": 59,
      "outputs": [
        {
          "output_type": "stream",
          "text": [
            "128\n"
          ],
          "name": "stdout"
        }
      ]
    },
    {
      "metadata": {
        "id": "bw-7yPRt93W2",
        "colab_type": "text"
      },
      "cell_type": "markdown",
      "source": [
        "**String Method Documentation**\n",
        "\n",
        "The string method documentation is at https://docs.python.org/3/library/stdtypes.html#string-methods"
      ]
    },
    {
      "metadata": {
        "id": "qaswbYpa-Lpb",
        "colab_type": "text"
      },
      "cell_type": "markdown",
      "source": [
        "**String Formatting**\n",
        "\n",
        "One particularly useful string method is `format`. The `format` method is used to construct strings by inserting values into template strings. Consider this example for generating log messages for a hypothetical web server."
      ]
    },
    {
      "metadata": {
        "id": "lmOIvukj9l64",
        "colab_type": "code",
        "colab": {
          "base_uri": "https://localhost:8080/",
          "height": 35
        },
        "outputId": "c1cf509f-9682-4308-f515-3d9336b58b8d"
      },
      "cell_type": "code",
      "source": [
        "from datetime import datetime\n",
        "user_ip = '208.94.117.90'\n",
        "url = '/bears/koala'\n",
        "now = datetime.now().time()\n",
        "\n",
        "\n",
        "log_message = \"IP address {} accessed {} at {}\".format(user_ip, url, now)\n",
        "print(log_message)"
      ],
      "execution_count": 64,
      "outputs": [
        {
          "output_type": "stream",
          "text": [
            "IP address 208.94.117.90 accessed /bears/koala at 08:17:15.673332\n"
          ],
          "name": "stdout"
        }
      ]
    },
    {
      "metadata": {
        "id": "7JT_Ps1W_Mk7",
        "colab_type": "text"
      },
      "cell_type": "markdown",
      "source": [
        "You can pass any type into the format method. format will convert values into strings as needed."
      ]
    },
    {
      "metadata": {
        "id": "NHSemkif_Qnt",
        "colab_type": "text"
      },
      "cell_type": "markdown",
      "source": [
        "**Quiz: Simplify Code with String Formatting**\n",
        "\n",
        "The code in this quiz generates weather report alerts. The original programmer used string concatenation to assemble the alerts though, which resulted in some hard to read code. Rewrite the code using the `format` method. Your new code should produce the same string as the old code you're replacing."
      ]
    },
    {
      "metadata": {
        "id": "Wn-NoXaq-RRF",
        "colab_type": "code",
        "colab": {
          "base_uri": "https://localhost:8080/",
          "height": 35
        },
        "outputId": "6e65b1b3-2f87-4fc7-cf28-9b1226e21bce"
      },
      "cell_type": "code",
      "source": [
        "city = \"Seoul\"\n",
        "high_temperature = 18\n",
        "low_temperature = 9\n",
        "temperature_unit = \"degrees Celsius\"\n",
        "weather_conditions = \"light rain\"\n",
        "\n",
        "#todo rewrite this line to use the format method rather than string concatenation\n",
        "#alert = \"Today's forecast for \" + city + \": The temperature will range from \" + str(low_temperature) + \" to \" + str(high_temperature) + \" \" + temperature_unit + \". Conditions will be \" + weather_conditions + \".\"\n",
        "\n",
        "alert = \"Today's forecast for {}: The temperature will range from {} to {} {}. Conditions will be {}.\".format(city, low_temperature, high_temperature, temperature_unit, weather_conditions)\n",
        "# print the alert\n",
        "print(alert)"
      ],
      "execution_count": 66,
      "outputs": [
        {
          "output_type": "stream",
          "text": [
            "Today's forecast for Seoul: The temperature will range from 9 to 18 degrees Celsius. Conditions will be light rain.\n"
          ],
          "name": "stdout"
        }
      ]
    }
  ]
}